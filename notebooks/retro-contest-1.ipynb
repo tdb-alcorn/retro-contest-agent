{
 "cells": [
  {
   "cell_type": "code",
   "execution_count": 1,
   "metadata": {},
   "outputs": [],
   "source": [
    "from retro_contest.local import make\n",
    "from agent import NeuralAgent\n",
    "import tensorflow as tf\n",
    "import numpy as np\n",
    "import sys\n",
    "from functools import reduce"
   ]
  },
  {
   "cell_type": "code",
   "execution_count": 7,
   "metadata": {},
   "outputs": [],
   "source": [
    "def step(x, thresh=0.5):\n",
    "    return (np.sign(x - thresh) + 1)/2"
   ]
  },
  {
   "cell_type": "code",
   "execution_count": 11,
   "metadata": {},
   "outputs": [
    {
     "name": "stdout",
     "output_type": "stream",
     "text": [
      "Episode =   10, Total Reward = 635.693"
     ]
    }
   ],
   "source": [
    "num_episodes = 10\n",
    "learning_rate = 1e-6\n",
    "num_hidden = 32\n",
    "memory_size = 10000\n",
    "batch_size = 32\n",
    "tau = 1e-3\n",
    "explore_mu = 0\n",
    "explore_theta = 0.15\n",
    "explore_sigma = 1e-1\n",
    "memory_a = 0.3\n",
    "memory_eps = 1e-2\n",
    "reset_n = 50\n",
    "\n",
    "tf.reset_default_graph()\n",
    "tf.logging.set_verbosity(tf.logging.WARN)\n",
    "\n",
    "env = make(game='SonicTheHedgehog-Genesis', state='LabyrinthZone.Act1')\n",
    "\n",
    "state_size = reduce(lambda x,y: x*y, env.observation_space.shape, 1)\n",
    "action_size = env.action_space.n\n",
    "agent = NeuralAgent(state_size=state_size,\n",
    "                    action_size=action_size,\n",
    "                    learning_rate=learning_rate,\n",
    "                    num_hidden=num_hidden,\n",
    "                    memory_size=memory_size,\n",
    "                    batch_size=batch_size,\n",
    "                    exploration_mu=explore_mu,\n",
    "                    exploration_theta=explore_theta,\n",
    "                    exploration_sigma=explore_sigma,\n",
    "                    memory_a=memory_a,\n",
    "                    memory_eps=memory_eps,\n",
    "                    tau=tau\n",
    "                   )\n",
    "\n",
    "rewards = [list() for i in range(num_episodes)]\n",
    "total_rewards = []\n",
    "saver = tf.train.Saver()\n",
    "try:\n",
    "    with tf.Session() as sess:\n",
    "        sess.run(tf.global_variables_initializer())\n",
    "        best_reward = 0\n",
    "        i_best = 0\n",
    "        last_reset = 0\n",
    "        for i_episode in range(1, num_episodes+1):\n",
    "            state = np.reshape(env.reset(), (-1))\n",
    "            total_reward = 0\n",
    "            while True:\n",
    "                action = step(agent.act(sess, state), thresh=0.1)\n",
    "                next_state, reward, done, info = env.step(action)\n",
    "                next_state = np.reshape(next_state, (-1))\n",
    "                agent.step(sess, state, action, reward, next_state, done)\n",
    "                total_reward += reward\n",
    "                rewards[i_episode - 1].append(reward)\n",
    "                state = next_state\n",
    "                if done:\n",
    "                    total_rewards.append(total_reward)\n",
    "                    if total_reward > best_reward:\n",
    "                        best_reward = total_reward\n",
    "                        i_best = i_episode\n",
    "                        saver.save(sess, \"checkpoints/retro-contest-bestckpt\")\n",
    "                    print(\"\\rEpisode = {:4d}, Total Reward = {:.3f}\".format(\n",
    "                        i_episode, total_reward), end=\"\")  # [debug]\n",
    "                    break\n",
    "            sys.stdout.flush()\n",
    "        saver.save(sess, \"checkpoints/retro-contest.ckpt\")\n",
    "finally:\n",
    "    env.close()"
   ]
  },
  {
   "cell_type": "code",
   "execution_count": 9,
   "metadata": {},
   "outputs": [],
   "source": [
    "env.close()"
   ]
  },
  {
   "cell_type": "code",
   "execution_count": 5,
   "metadata": {},
   "outputs": [],
   "source": [
    "env = make(game='SonicTheHedgehog-Genesis', state='LabyrinthZone.Act1')\n",
    "state = env.reset()"
   ]
  },
  {
   "cell_type": "code",
   "execution_count": 33,
   "metadata": {},
   "outputs": [
    {
     "data": {
      "text/plain": [
       "(1, 215040)"
      ]
     },
     "execution_count": 33,
     "metadata": {},
     "output_type": "execute_result"
    }
   ],
   "source": [
    "np.reshape(state, (1,-1)).shape"
   ]
  },
  {
   "cell_type": "code",
   "execution_count": 34,
   "metadata": {},
   "outputs": [],
   "source": [
    "ns, rw, d, i = env.step(env.action_space.sample())"
   ]
  },
  {
   "cell_type": "code",
   "execution_count": 38,
   "metadata": {},
   "outputs": [
    {
     "data": {
      "text/plain": [
       "(1, 215040)"
      ]
     },
     "execution_count": 38,
     "metadata": {},
     "output_type": "execute_result"
    }
   ],
   "source": [
    "np.reshape(ns, (1,-1)).shape"
   ]
  },
  {
   "cell_type": "code",
   "execution_count": 6,
   "metadata": {},
   "outputs": [
    {
     "name": "stdout",
     "output_type": "stream",
     "text": [
      "3.21 ms ± 50.8 µs per loop (mean ± std. dev. of 7 runs, 100 loops each)\n"
     ]
    }
   ],
   "source": [
    "%timeit env.step(env.action_space.sample())"
   ]
  },
  {
   "cell_type": "code",
   "execution_count": 12,
   "metadata": {},
   "outputs": [
    {
     "name": "stdout",
     "output_type": "stream",
     "text": [
      "3.46 µs ± 13.3 ns per loop (mean ± std. dev. of 7 runs, 100000 loops each)\n"
     ]
    }
   ],
   "source": [
    "%timeit env.action_space.sample()"
   ]
  },
  {
   "cell_type": "code",
   "execution_count": null,
   "metadata": {},
   "outputs": [],
   "source": []
  }
 ],
 "metadata": {
  "kernelspec": {
   "display_name": "Python 3",
   "language": "python",
   "name": "python3"
  },
  "language_info": {
   "codemirror_mode": {
    "name": "ipython",
    "version": 3
   },
   "file_extension": ".py",
   "mimetype": "text/x-python",
   "name": "python",
   "nbconvert_exporter": "python",
   "pygments_lexer": "ipython3",
   "version": "3.5.2"
  }
 },
 "nbformat": 4,
 "nbformat_minor": 2
}
