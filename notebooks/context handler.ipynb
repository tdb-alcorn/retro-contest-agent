{
 "cells": [
  {
   "cell_type": "code",
   "execution_count": 3,
   "metadata": {},
   "outputs": [
    {
     "name": "stdout",
     "output_type": "stream",
     "text": [
      "entering\n",
      "here\n",
      "exiting\n"
     ]
    }
   ],
   "source": [
    "# context handler\n",
    "class Foo():\n",
    "    def __enter__(self):\n",
    "        print(\"entering\")\n",
    "        \n",
    "    def __exit__(*args):\n",
    "        print(\"exiting\")\n",
    "        \n",
    "def make():\n",
    "    return Foo()\n",
    "\n",
    "with make() as f:\n",
    "    print(\"here\")"
   ]
  },
  {
   "cell_type": "code",
   "execution_count": null,
   "metadata": {},
   "outputs": [],
   "source": [
    "# TODO make Env be a closer by implementing __enter__ __exit__ as above\n",
    "# see https://github.com/openai/gym/blob/master/gym/core.py"
   ]
  }
 ],
 "metadata": {
  "kernelspec": {
   "display_name": "Python 3",
   "language": "python",
   "name": "python3"
  },
  "language_info": {
   "codemirror_mode": {
    "name": "ipython",
    "version": 3
   },
   "file_extension": ".py",
   "mimetype": "text/x-python",
   "name": "python",
   "nbconvert_exporter": "python",
   "pygments_lexer": "ipython3",
   "version": "3.6.3"
  }
 },
 "nbformat": 4,
 "nbformat_minor": 2
}
