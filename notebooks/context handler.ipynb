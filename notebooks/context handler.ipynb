{
 "cells": [
  {
   "cell_type": "code",
   "execution_count": 18,
   "metadata": {},
   "outputs": [
    {
     "name": "stdout",
     "output_type": "stream",
     "text": [
      "entering\n",
      "here\n",
      "1\n",
      "closing Bar\n",
      "(<class 'Exception'>, Exception(), <traceback object at 0x105331b88>)\n",
      "exiting\n"
     ]
    },
    {
     "ename": "Exception",
     "evalue": "",
     "output_type": "error",
     "traceback": [
      "\u001b[0;31m---------------------------------------------------------------------------\u001b[0m",
      "\u001b[0;31mException\u001b[0m                                 Traceback (most recent call last)",
      "\u001b[0;32m<ipython-input-18-cd3ae2cf20e2>\u001b[0m in \u001b[0;36m<module>\u001b[0;34m()\u001b[0m\n\u001b[1;32m     27\u001b[0m     \u001b[0mprint\u001b[0m\u001b[0;34m(\u001b[0m\u001b[0;34m\"here\"\u001b[0m\u001b[0;34m)\u001b[0m\u001b[0;34m\u001b[0m\u001b[0m\n\u001b[1;32m     28\u001b[0m     \u001b[0mprint\u001b[0m\u001b[0;34m(\u001b[0m\u001b[0mf\u001b[0m\u001b[0;34m.\u001b[0m\u001b[0mx\u001b[0m\u001b[0;34m)\u001b[0m\u001b[0;34m\u001b[0m\u001b[0m\n\u001b[0;32m---> 29\u001b[0;31m     \u001b[0;32mraise\u001b[0m \u001b[0mException\u001b[0m\u001b[0;34m(\u001b[0m\u001b[0;34m)\u001b[0m\u001b[0;34m\u001b[0m\u001b[0m\n\u001b[0m",
      "\u001b[0;31mException\u001b[0m: "
     ]
    }
   ],
   "source": [
    "# context handler\n",
    "class Foo(object):\n",
    "    def __init__(self):\n",
    "        self.x = 1\n",
    "        \n",
    "    def __enter__(self):\n",
    "        print(\"entering\")\n",
    "        return self\n",
    "        \n",
    "    def __exit__(self, *args):\n",
    "        self.close()\n",
    "        print(args)\n",
    "        print(\"exiting\")\n",
    "        return False\n",
    "    \n",
    "    def close(self):\n",
    "        return\n",
    "\n",
    "class Bar(Foo):\n",
    "    def close(self):\n",
    "        print(\"closing Bar\")\n",
    "    \n",
    "def make():\n",
    "    return Bar()\n",
    "\n",
    "with make() as f:\n",
    "    print(\"here\")\n",
    "    print(f.x)\n",
    "    raise Exception()"
   ]
  },
  {
   "cell_type": "code",
   "execution_count": null,
   "metadata": {},
   "outputs": [],
   "source": [
    "# TODO make Env be a closer by implementing __enter__ __exit__ as above\n",
    "# see https://github.com/openai/gym/blob/master/gym/core.py"
   ]
  }
 ],
 "metadata": {
  "kernelspec": {
   "display_name": "Python 3",
   "language": "python",
   "name": "python3"
  },
  "language_info": {
   "codemirror_mode": {
    "name": "ipython",
    "version": 3
   },
   "file_extension": ".py",
   "mimetype": "text/x-python",
   "name": "python",
   "nbconvert_exporter": "python",
   "pygments_lexer": "ipython3",
   "version": "3.6.3"
  }
 },
 "nbformat": 4,
 "nbformat_minor": 2
}
